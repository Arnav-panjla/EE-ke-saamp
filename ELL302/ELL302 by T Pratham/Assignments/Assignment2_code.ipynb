{
 "cells": [
  {
   "cell_type": "code",
   "execution_count": 188,
   "metadata": {},
   "outputs": [],
   "source": [
    "import numpy as np\n",
    "from scipy.optimize import fsolve"
   ]
  },
  {
   "cell_type": "code",
   "execution_count": 189,
   "metadata": {},
   "outputs": [],
   "source": [
    "def func(x):\n",
    "    y = []\n",
    "    y.append(1-np.cos(5*x[0])+np.cos(5*x[1]))\n",
    "    y.append(1-np.cos(7*x[0])+np.cos(7*x[1]))\n",
    "\n",
    "    y = np.array(y)\n",
    "    return y"
   ]
  },
  {
   "cell_type": "code",
   "execution_count": 190,
   "metadata": {},
   "outputs": [],
   "source": [
    "def J_func(x):\n",
    "    J = []\n",
    "    J.append(np.array([(5*np.sin(5*x[0])), (-5*np.sin(5*x[1]))]))\n",
    "    J.append(np.array([(7*np.sin(7*x[0])), (-7*np.sin(7*x[1]))]))\n",
    "\n",
    "    J = np.array(J)\n",
    "    return J"
   ]
  },
  {
   "cell_type": "code",
   "execution_count": 191,
   "metadata": {},
   "outputs": [
    {
     "name": "stdout",
     "output_type": "stream",
     "text": [
      "[0.22359601 0.43364062]\n"
     ]
    }
   ],
   "source": [
    "sol = fsolve(func, np.array([0.2, 0.3]))\n",
    "print(sol)"
   ]
  },
  {
   "cell_type": "code",
   "execution_count": 192,
   "metadata": {},
   "outputs": [
    {
     "data": {
      "text/plain": [
       "array([12.81110786, 24.84577741])"
      ]
     },
     "execution_count": 192,
     "metadata": {},
     "output_type": "execute_result"
    }
   ],
   "source": [
    "sol*180/np.pi"
   ]
  },
  {
   "cell_type": "code",
   "execution_count": 193,
   "metadata": {},
   "outputs": [
    {
     "name": "stdout",
     "output_type": "stream",
     "text": [
      "[19.2029008  29.96747302]\n",
      "[13.58771528 24.3310731 ]\n",
      "[12.8241404  24.84041361]\n",
      "[12.81110931 24.84577423]\n",
      "[12.81110786 24.84577741]\n",
      "[0.22359601 0.43364062]\n"
     ]
    }
   ],
   "source": [
    "x = np.array([12*np.pi/180, 18*np.pi/180])\n",
    "\n",
    "while np.any(np.abs(func(x)) > 0.000000001):\n",
    "    x = x - np.linalg.pinv(J_func(x))@func(x)\n",
    "    print(x*180/np.pi)\n",
    "print(x)"
   ]
  },
  {
   "cell_type": "code",
   "execution_count": 194,
   "metadata": {},
   "outputs": [
    {
     "data": {
      "text/plain": [
       "array([12.81110786, 24.84577741])"
      ]
     },
     "execution_count": 194,
     "metadata": {},
     "output_type": "execute_result"
    }
   ],
   "source": [
    "x*180/np.pi"
   ]
  },
  {
   "cell_type": "code",
   "execution_count": 125,
   "metadata": {},
   "outputs": [
    {
     "name": "stdout",
     "output_type": "stream",
     "text": [
      "[12.809999999999983, 12.809999999999983, 12.819999999999983]\n",
      "[24.83999999999979, 24.84999999999979, 24.85999999999979]\n"
     ]
    }
   ],
   "source": [
    "x = np.arange(12, 14, 0.01)*np.pi/180\n",
    "y = np.arange(15, 70, 0.01)*np.pi/180\n",
    "ans_x = []\n",
    "ans_y = []\n",
    "\n",
    "for i in x:\n",
    "    for j in y:\n",
    "        if(abs(1-np.cos(5*i)+np.cos(5*j)) < 0.001 and abs(1-np.cos(7*i)+np.cos(7*j)) < 0.001):\n",
    "            ans_x.append(i*180/np.pi)\n",
    "            ans_y.append(j*180/np.pi)\n",
    "print(ans_x)\n",
    "print(ans_y)"
   ]
  },
  {
   "cell_type": "code",
   "execution_count": 144,
   "metadata": {},
   "outputs": [
    {
     "name": "stdout",
     "output_type": "stream",
     "text": [
      "[12.811108   24.84577815]\n"
     ]
    }
   ],
   "source": [
    "x = np.arange(12, 14, 0.000001)*np.pi/180\n",
    "sol = np.array([14, 90], dtype=np.double)\n",
    "diff = 90\n",
    "for i in x:\n",
    "    theta1 = np.cos(5*i)-1\n",
    "    theta2 = np.cos(7*i)-1\n",
    "    if theta1 < -1 or theta2 < -1:\n",
    "        continue \n",
    "    y1 = np.arccos(theta1)/5\n",
    "    y2 = np.arccos(theta2)/7\n",
    "    if diff > np.abs(y1-y2):\n",
    "        sol[0] = i\n",
    "        sol[1] = (y1+y2)/2\n",
    "        diff = np.abs(y1-y2)\n",
    "\n",
    "print(sol*180/np.pi)"
   ]
  },
  {
   "cell_type": "code",
   "execution_count": 195,
   "metadata": {},
   "outputs": [
    {
     "name": "stdout",
     "output_type": "stream",
     "text": [
      "[-1. -1.]\n"
     ]
    }
   ],
   "source": [
    "def f2(x):\n",
    "    y = []\n",
    "    y.append(1-2*np.cos(5*x[0])+2*np.cos(5*x[1]))\n",
    "    y.append(1-2*np.cos(7*x[0])+2*np.cos(7*x[1]))\n",
    "\n",
    "    y = np.array(y)\n",
    "    return y\n",
    "\n",
    "print(f2(x))"
   ]
  }
 ],
 "metadata": {
  "kernelspec": {
   "display_name": "Python 3.9.2 64-bit",
   "language": "python",
   "name": "python3"
  },
  "language_info": {
   "codemirror_mode": {
    "name": "ipython",
    "version": 3
   },
   "file_extension": ".py",
   "mimetype": "text/x-python",
   "name": "python",
   "nbconvert_exporter": "python",
   "pygments_lexer": "ipython3",
   "version": "3.9.2"
  },
  "orig_nbformat": 4,
  "vscode": {
   "interpreter": {
    "hash": "fe4fd846f5ed7924f8f66c2e869d03a132a3ef903784c80be68cfd85513bea3a"
   }
  }
 },
 "nbformat": 4,
 "nbformat_minor": 2
}
